{
 "cells": [
  {
   "cell_type": "code",
   "execution_count": 1,
   "metadata": {},
   "outputs": [],
   "source": [
    "import pandas as pd\n",
    "import numpy as np\n",
    "%matplotlib inline \n",
    "import pickle\n",
    "import scipy.stats\n",
    "import ast\n",
    "import glob"
   ]
  },
  {
   "cell_type": "code",
   "execution_count": 2,
   "metadata": {},
   "outputs": [],
   "source": [
    "dumas = pd.read_csv(\"resultados_dumas.csv\", sep=\";\", index_col=0)"
   ]
  },
  {
   "cell_type": "code",
   "execution_count": 3,
   "metadata": {},
   "outputs": [
    {
     "data": {
      "text/html": [
       "<div>\n",
       "<style scoped>\n",
       "    .dataframe tbody tr th:only-of-type {\n",
       "        vertical-align: middle;\n",
       "    }\n",
       "\n",
       "    .dataframe tbody tr th {\n",
       "        vertical-align: top;\n",
       "    }\n",
       "\n",
       "    .dataframe thead th {\n",
       "        text-align: right;\n",
       "    }\n",
       "</style>\n",
       "<table border=\"1\" class=\"dataframe\">\n",
       "  <thead>\n",
       "    <tr style=\"text-align: right;\">\n",
       "      <th></th>\n",
       "      <th>FWIN</th>\n",
       "      <th>ADWIN</th>\n",
       "    </tr>\n",
       "  </thead>\n",
       "  <tbody>\n",
       "    <tr>\n",
       "      <th>re</th>\n",
       "      <td>0.98</td>\n",
       "      <td>1.00</td>\n",
       "    </tr>\n",
       "    <tr>\n",
       "      <th>cf</th>\n",
       "      <td>0.95</td>\n",
       "      <td>0.98</td>\n",
       "    </tr>\n",
       "    <tr>\n",
       "      <th>lp</th>\n",
       "      <td>1.00</td>\n",
       "      <td>1.00</td>\n",
       "    </tr>\n",
       "    <tr>\n",
       "      <th>pl</th>\n",
       "      <td>0.98</td>\n",
       "      <td>1.00</td>\n",
       "    </tr>\n",
       "    <tr>\n",
       "      <th>cb</th>\n",
       "      <td>0.84</td>\n",
       "      <td>0.92</td>\n",
       "    </tr>\n",
       "    <tr>\n",
       "      <th>cm</th>\n",
       "      <td>0.91</td>\n",
       "      <td>1.00</td>\n",
       "    </tr>\n",
       "    <tr>\n",
       "      <th>cp</th>\n",
       "      <td>1.00</td>\n",
       "      <td>1.00</td>\n",
       "    </tr>\n",
       "    <tr>\n",
       "      <th>cd</th>\n",
       "      <td>1.00</td>\n",
       "      <td>0.88</td>\n",
       "    </tr>\n",
       "    <tr>\n",
       "      <th>pm</th>\n",
       "      <td>1.00</td>\n",
       "      <td>1.00</td>\n",
       "    </tr>\n",
       "    <tr>\n",
       "      <th>rp</th>\n",
       "      <td>0.96</td>\n",
       "      <td>0.96</td>\n",
       "    </tr>\n",
       "    <tr>\n",
       "      <th>sw</th>\n",
       "      <td>1.00</td>\n",
       "      <td>1.00</td>\n",
       "    </tr>\n",
       "    <tr>\n",
       "      <th>fr</th>\n",
       "      <td>0.62</td>\n",
       "      <td>0.75</td>\n",
       "    </tr>\n",
       "    <tr>\n",
       "      <th>IOR</th>\n",
       "      <td>1.00</td>\n",
       "      <td>1.00</td>\n",
       "    </tr>\n",
       "    <tr>\n",
       "      <th>IRO</th>\n",
       "      <td>0.96</td>\n",
       "      <td>1.00</td>\n",
       "    </tr>\n",
       "    <tr>\n",
       "      <th>OIR</th>\n",
       "      <td>0.97</td>\n",
       "      <td>0.97</td>\n",
       "    </tr>\n",
       "    <tr>\n",
       "      <th>ORI</th>\n",
       "      <td>1.00</td>\n",
       "      <td>1.00</td>\n",
       "    </tr>\n",
       "    <tr>\n",
       "      <th>RIO</th>\n",
       "      <td>0.97</td>\n",
       "      <td>0.98</td>\n",
       "    </tr>\n",
       "    <tr>\n",
       "      <th>ROI</th>\n",
       "      <td>0.98</td>\n",
       "      <td>1.00</td>\n",
       "    </tr>\n",
       "  </tbody>\n",
       "</table>\n",
       "</div>"
      ],
      "text/plain": [
       "     FWIN  ADWIN\n",
       "re   0.98   1.00\n",
       "cf   0.95   0.98\n",
       "lp   1.00   1.00\n",
       "pl   0.98   1.00\n",
       "cb   0.84   0.92\n",
       "cm   0.91   1.00\n",
       "cp   1.00   1.00\n",
       "cd   1.00   0.88\n",
       "pm   1.00   1.00\n",
       "rp   0.96   0.96\n",
       "sw   1.00   1.00\n",
       "fr   0.62   0.75\n",
       "IOR  1.00   1.00\n",
       "IRO  0.96   1.00\n",
       "OIR  0.97   0.97\n",
       "ORI  1.00   1.00\n",
       "RIO  0.97   0.98\n",
       "ROI  0.98   1.00"
      ]
     },
     "execution_count": 3,
     "metadata": {},
     "output_type": "execute_result"
    }
   ],
   "source": [
    "dumas"
   ]
  },
  {
   "cell_type": "code",
   "execution_count": null,
   "metadata": {},
   "outputs": [],
   "source": [
    "results = pd.read_csv(\"resultados_consolidados_2020-01-06.csv\", sep=\";\", index_col = 0)"
   ]
  },
  {
   "cell_type": "code",
   "execution_count": 5,
   "metadata": {},
   "outputs": [],
   "source": [
    "def insensitive_glob(pattern):\n",
    "    def either(c):\n",
    "        return '[%s%s]' % (c.lower(), c.upper()) if c.isalpha() else c\n",
    "    return glob.glob(''.join(map(either, pattern)))"
   ]
  },
  {
   "cell_type": "code",
   "execution_count": 6,
   "metadata": {},
   "outputs": [],
   "source": [
    "dr = insensitive_glob(\"../drift_detection_results_v4_sum_amplitude/*/*/*.csv\")"
   ]
  },
  {
   "cell_type": "code",
   "execution_count": 16,
   "metadata": {},
   "outputs": [],
   "source": [
    "tqdm.pandas()"
   ]
  },
  {
   "cell_type": "code",
   "execution_count": 15,
   "metadata": {},
   "outputs": [],
   "source": [
    "from tqdm import tqdm_notebook"
   ]
  },
  {
   "cell_type": "code",
   "execution_count": 18,
   "metadata": {},
   "outputs": [
    {
     "name": "stdout",
     "output_type": "stream",
     "text": [
      "(2540159, 2540160)\r"
     ]
    }
   ],
   "source": [
    "bases = []\n",
    "\n",
    "for i in range(len(dr)):\n",
    "    f = dr[i]\n",
    "    print((i, len(dr)), end=\"\\r\")\n",
    "    bases.append(\n",
    "        pd.read_csv(f, index_col=0, sep=\";\")\n",
    "    )"
   ]
  },
  {
   "cell_type": "code",
   "execution_count": 19,
   "metadata": {},
   "outputs": [
    {
     "name": "stderr",
     "output_type": "stream",
     "text": [
      "/home/ubuntu/.local/lib/python3.6/site-packages/ipykernel_launcher.py:1: FutureWarning: Sorting because non-concatenation axis is not aligned. A future version\n",
      "of pandas will change to not sort by default.\n",
      "\n",
      "To accept the future behavior, pass 'sort=False'.\n",
      "\n",
      "To retain the current behavior and silence the warning, pass 'sort=True'.\n",
      "\n",
      "  \"\"\"Entry point for launching an IPython kernel.\n"
     ]
    }
   ],
   "source": [
    "results = pd.concat(bases)"
   ]
  },
  {
   "cell_type": "code",
   "execution_count": 20,
   "metadata": {},
   "outputs": [],
   "source": [
    "results.to_csv(\"resultados_consolidados_2020-01-18_v4_sum_amplitude.csv\", sep=\";\")"
   ]
  },
  {
   "cell_type": "code",
   "execution_count": 21,
   "metadata": {},
   "outputs": [
    {
     "data": {
      "text/plain": [
       "cumulative     2177280\n",
       "exponential    2177280\n",
       "tradicional     725760\n",
       "Name: detection_type, dtype: int64"
      ]
     },
     "execution_count": 21,
     "metadata": {},
     "output_type": "execute_result"
    }
   ],
   "source": [
    "results.detection_type.value_counts()"
   ]
  },
  {
   "cell_type": "code",
   "execution_count": 23,
   "metadata": {},
   "outputs": [],
   "source": [
    "del bases"
   ]
  },
  {
   "cell_type": "code",
   "execution_count": 24,
   "metadata": {},
   "outputs": [
    {
     "data": {
      "text/plain": [
       "0"
      ]
     },
     "execution_count": 24,
     "metadata": {},
     "output_type": "execute_result"
    }
   ],
   "source": [
    "# import gc\n",
    "gc.collect()"
   ]
  },
  {
   "cell_type": "code",
   "execution_count": null,
   "metadata": {},
   "outputs": [],
   "source": [
    "# results = pd.concat([\n",
    "#     pd.read_excel(\"NOVO_resultados_agregados_sliding=False_agglomerative.xlsx\", index_col=0),\n",
    "#     pd.read_excel(\"NOVO_resultados_agregados_sliding=False.xlsx\", index_col=0),\n",
    "#     pd.read_excel(\"NOVO_resultados_agregados_sliding=True.xlsx\", index_col=0),\n",
    "#     pd.read_excel(\"NOVO_resultados_agregados_metricas_novas_representacoes_sliding=False.xlsx\", index_col=0),\n",
    "#     pd.read_excel(\"NOVO_resultados_agregados_metricas_novas_representacoes.xlsx\", index_col=0),\n",
    "#     pd.read_pickle(\"NOVO_resultados_agregados_exponential.pickle\")\n",
    "# ])"
   ]
  },
  {
   "cell_type": "code",
   "execution_count": 25,
   "metadata": {},
   "outputs": [],
   "source": [
    "min_dumas = {}\n",
    "for i, row in dumas.iterrows():\n",
    "    min_dumas[i] = min(row[\"FWIN\"], row[\"ADWIN\"])"
   ]
  },
  {
   "cell_type": "code",
   "execution_count": 26,
   "metadata": {},
   "outputs": [],
   "source": [
    "results[\"smooth_factor\"] = results.smooth_factor.fillna(-1)"
   ]
  },
  {
   "cell_type": "code",
   "execution_count": 27,
   "metadata": {},
   "outputs": [],
   "source": [
    "results = results.dropna()"
   ]
  },
  {
   "cell_type": "code",
   "execution_count": 88,
   "metadata": {},
   "outputs": [],
   "source": [
    "# results[\"maior_igual_dumas\"] = results.apply(\n",
    "#     lambda x: 1 if x[\"F1\"] >= min_dumas[x[\"tipo_mudanca\"]] else 0,\n",
    "#     axis=1\n",
    "# )"
   ]
  },
  {
   "cell_type": "code",
   "execution_count": 89,
   "metadata": {},
   "outputs": [
    {
     "data": {
      "text/plain": [
       "54"
      ]
     },
     "execution_count": 89,
     "metadata": {},
     "output_type": "execute_result"
    }
   ],
   "source": [
    "len(results.tipo_mudanca.unique()) * 3"
   ]
  },
  {
   "cell_type": "code",
   "execution_count": 90,
   "metadata": {},
   "outputs": [
    {
     "data": {
      "text/plain": [
       "Index(['tipo_mudanca', 'log_size', 'representation', 'window_size', 'model',\n",
       "       'sliding_window', 'measure', 'detection_type', 'input',\n",
       "       'rolling_window', 'smooth_factor', 'std_tolerance', 'Precision',\n",
       "       'Recall', 'F1', 'Delay', 'Correct_Predictions', 'Support',\n",
       "       'Drifts_Found', 'Resp'],\n",
       "      dtype='object')"
      ]
     },
     "execution_count": 90,
     "metadata": {},
     "output_type": "execute_result"
    }
   ],
   "source": [
    "results.columns"
   ]
  },
  {
   "cell_type": "code",
   "execution_count": 28,
   "metadata": {},
   "outputs": [],
   "source": [
    "def reduce_mem_usage(df):\n",
    "    start_mem = df.memory_usage().sum() / 1024**2\n",
    "    print('Memory usage of dataframe is {:.2f} MB'.format(start_mem))\n",
    "\n",
    "    for col in df.columns:\n",
    "        col_type = df[col].dtype\n",
    "    if col_type != object:\n",
    "            c_min = df[col].min()\n",
    "            c_max = df[col].max()\n",
    "            if str(col_type)[:3] == 'int':\n",
    "                if c_min > np.iinfo(np.int8).min and c_max < np.iinfo(np.int8).max:\n",
    "                    df[col] = df[col].astype(np.int8)\n",
    "                elif c_min > np.iinfo(np.uint8).min and c_max < np.iinfo(np.uint8).max:\n",
    "                    df[col] = df[col].astype(np.uint8)\n",
    "                elif c_min > np.iinfo(np.int16).min and c_max < np.iinfo(np.int16).max:\n",
    "                    df[col] = df[col].astype(np.int16)\n",
    "                elif c_min > np.iinfo(np.uint16).min and c_max < np.iinfo(np.uint16).max:\n",
    "                    df[col] = df[col].astype(np.uint16)\n",
    "                elif c_min > np.iinfo(np.int32).min and c_max < np.iinfo(np.int32).max:\n",
    "                    df[col] = df[col].astype(np.int32)\n",
    "                elif c_min > np.iinfo(np.uint32).min and c_max < np.iinfo(np.uint32).max:\n",
    "                    df[col] = df[col].astype(np.uint32)                    \n",
    "                elif c_min > np.iinfo(np.int64).min and c_max < np.iinfo(np.int64).max:\n",
    "                    df[col] = df[col].astype(np.int64)\n",
    "                elif c_min > np.iinfo(np.uint64).min and c_max < np.iinfo(np.uint64).max:\n",
    "                    df[col] = df[col].astype(np.uint64)\n",
    "            else:\n",
    "                if c_min > np.finfo(np.float16).min and c_max < np.finfo(np.float16).max:\n",
    "                    df[col] = df[col].astype(np.float16)\n",
    "                elif c_min > np.finfo(np.float32).min and c_max < np.finfo(np.float32).max:\n",
    "                    df[col] = df[col].astype(np.float32)\n",
    "                else:\n",
    "                    df[col] = df[col].astype(np.float64)\n",
    "\n",
    "    end_mem = df.memory_usage().sum() / 1024**2\n",
    "    print('Memory usage after optimization is: {:.2f} MB'.format(end_mem))\n",
    "    print('Decreased by {:.1f}%'.format(100 * (start_mem - end_mem) / start_mem))\n",
    "    return df"
   ]
  },
  {
   "cell_type": "code",
   "execution_count": 29,
   "metadata": {},
   "outputs": [
    {
     "name": "stdout",
     "output_type": "stream",
     "text": [
      "Memory usage of dataframe is 780.04 MB\n",
      "Memory usage after optimization is: 750.97 MB\n",
      "Decreased by 3.7%\n"
     ]
    }
   ],
   "source": [
    "results = reduce_mem_usage(results)"
   ]
  },
  {
   "cell_type": "code",
   "execution_count": 30,
   "metadata": {},
   "outputs": [
    {
     "data": {
      "text/plain": [
       "transitions    1270080\n",
       "tfidf          1270080\n",
       "frequency      1270080\n",
       "binary         1270080\n",
       "Name: representation, dtype: int64"
      ]
     },
     "execution_count": 30,
     "metadata": {},
     "output_type": "execute_result"
    }
   ],
   "source": [
    "results.representation.value_counts()"
   ]
  },
  {
   "cell_type": "code",
   "execution_count": 31,
   "metadata": {},
   "outputs": [
    {
     "data": {
      "text/plain": [
       "amplitude_dist_between_centroids    2540160\n",
       "sum_dist_between_centroids          2540160\n",
       "Name: measure, dtype: int64"
      ]
     },
     "execution_count": 31,
     "metadata": {},
     "output_type": "execute_result"
    }
   ],
   "source": [
    "results.measure.value_counts()"
   ]
  },
  {
   "cell_type": "code",
   "execution_count": 32,
   "metadata": {},
   "outputs": [
    {
     "data": {
      "text/plain": [
       "0"
      ]
     },
     "execution_count": 32,
     "metadata": {},
     "output_type": "execute_result"
    }
   ],
   "source": [
    "import gc\n",
    "gc.collect()"
   ]
  },
  {
   "cell_type": "code",
   "execution_count": 33,
   "metadata": {},
   "outputs": [],
   "source": [
    "grouped_means = results.groupby([\n",
    "    \"measure\", \"representation\", \"rolling_window\", \"sliding_window\", \"std_tolerance\", \"window_size\", \n",
    "    \"tipo_mudanca\", \"model\", \"detection_type\", \"smooth_factor\"\n",
    "]).agg({\n",
    "    'F1': ['mean', \"count\"],\n",
    "    'Delay': 'mean'\n",
    "}).reset_index()\n",
    "\n",
    "grouped_means.columns = [\n",
    "    \"measure\", \"representation\", \"rolling_window\", \"sliding_window\", \"std_tolerance\", \"window_size\", \n",
    "    \"tipo_mudanca\", \"model\", \"detection_type\", \"smooth_factor\", \"F1\", \"count\", \"mean_delay\"\n",
    "]\n",
    "\n",
    "grouped_means = grouped_means.sort_values(['F1'], ascending=False)"
   ]
  },
  {
   "cell_type": "code",
   "execution_count": 34,
   "metadata": {},
   "outputs": [],
   "source": [
    "grouped_means.drop_duplicates([\"tipo_mudanca\", \"representation\", \"measure\"]).to_csv(\"best_configuration_per_run_tipo_mudanca_and_representation_v4_sum_amplitude.csv\", sep=\";\")"
   ]
  },
  {
   "cell_type": "code",
   "execution_count": 36,
   "metadata": {},
   "outputs": [],
   "source": [
    "grouped_means_todos_tipos_mudanca = grouped_means.groupby([\n",
    "    \"measure\", \"representation\", \"rolling_window\", \"sliding_window\", \"std_tolerance\", \"window_size\", \n",
    "    \"model\", \"detection_type\", \"smooth_factor\"\n",
    "]).agg({'F1': 'mean', \"count\": \"sum\"}).reset_index()\n",
    "\n",
    "grouped_means_todos_tipos_mudanca.columns = [\n",
    "    \"measure\", \"representation\", \"rolling_window\", \"sliding_window\", \"std_tolerance\", \"window_size\", \n",
    "    \"model\", \"detection_type\", \"smooth_factor\", \"F1\", \"count\"\n",
    "]\n",
    "\n",
    "grouped_means_todos_tipos_mudanca = grouped_means_todos_tipos_mudanca.sort_values(['F1'], ascending=False)"
   ]
  },
  {
   "cell_type": "code",
   "execution_count": 44,
   "metadata": {},
   "outputs": [],
   "source": [
    "best_runs = grouped_means_todos_tipos_mudanca.drop_duplicates([\"measure\", \"representation\"], keep=\"first\")"
   ]
  },
  {
   "cell_type": "code",
   "execution_count": 39,
   "metadata": {},
   "outputs": [],
   "source": [
    "best_runs = grouped_means_todos_tipos_mudanca.drop_duplicates([\"measure\"], keep=\"first\")"
   ]
  },
  {
   "cell_type": "code",
   "execution_count": 45,
   "metadata": {},
   "outputs": [
    {
     "data": {
      "text/html": [
       "<div>\n",
       "<style scoped>\n",
       "    .dataframe tbody tr th:only-of-type {\n",
       "        vertical-align: middle;\n",
       "    }\n",
       "\n",
       "    .dataframe tbody tr th {\n",
       "        vertical-align: top;\n",
       "    }\n",
       "\n",
       "    .dataframe thead th {\n",
       "        text-align: right;\n",
       "    }\n",
       "</style>\n",
       "<table border=\"1\" class=\"dataframe\">\n",
       "  <thead>\n",
       "    <tr style=\"text-align: right;\">\n",
       "      <th></th>\n",
       "      <th>measure</th>\n",
       "      <th>representation</th>\n",
       "      <th>rolling_window</th>\n",
       "      <th>sliding_window</th>\n",
       "      <th>std_tolerance</th>\n",
       "      <th>window_size</th>\n",
       "      <th>model</th>\n",
       "      <th>detection_type</th>\n",
       "      <th>smooth_factor</th>\n",
       "      <th>F1</th>\n",
       "      <th>count</th>\n",
       "    </tr>\n",
       "  </thead>\n",
       "  <tbody>\n",
       "    <tr>\n",
       "      <th>83153</th>\n",
       "      <td>sum_dist_between_centroids</td>\n",
       "      <td>transitions</td>\n",
       "      <td>2</td>\n",
       "      <td>False</td>\n",
       "      <td>1.75</td>\n",
       "      <td>250</td>\n",
       "      <td>kmeans__k=8</td>\n",
       "      <td>cumulative</td>\n",
       "      <td>0.2</td>\n",
       "      <td>0.750172</td>\n",
       "      <td>54</td>\n",
       "    </tr>\n",
       "    <tr>\n",
       "      <th>59624</th>\n",
       "      <td>sum_dist_between_centroids</td>\n",
       "      <td>frequency</td>\n",
       "      <td>2</td>\n",
       "      <td>False</td>\n",
       "      <td>1.75</td>\n",
       "      <td>250</td>\n",
       "      <td>kmeans__k=3</td>\n",
       "      <td>exponential</td>\n",
       "      <td>0.9</td>\n",
       "      <td>0.741432</td>\n",
       "      <td>54</td>\n",
       "    </tr>\n",
       "    <tr>\n",
       "      <th>13172</th>\n",
       "      <td>amplitude_dist_between_centroids</td>\n",
       "      <td>frequency</td>\n",
       "      <td>2</td>\n",
       "      <td>False</td>\n",
       "      <td>2.25</td>\n",
       "      <td>250</td>\n",
       "      <td>kmeans__k=3</td>\n",
       "      <td>exponential</td>\n",
       "      <td>0.9</td>\n",
       "      <td>0.741323</td>\n",
       "      <td>54</td>\n",
       "    </tr>\n",
       "    <tr>\n",
       "      <th>35796</th>\n",
       "      <td>amplitude_dist_between_centroids</td>\n",
       "      <td>transitions</td>\n",
       "      <td>2</td>\n",
       "      <td>False</td>\n",
       "      <td>1.50</td>\n",
       "      <td>250</td>\n",
       "      <td>agglomerative__k=6_linkage=ward</td>\n",
       "      <td>exponential</td>\n",
       "      <td>0.9</td>\n",
       "      <td>0.734274</td>\n",
       "      <td>54</td>\n",
       "    </tr>\n",
       "    <tr>\n",
       "      <th>236</th>\n",
       "      <td>amplitude_dist_between_centroids</td>\n",
       "      <td>binary</td>\n",
       "      <td>2</td>\n",
       "      <td>False</td>\n",
       "      <td>1.25</td>\n",
       "      <td>250</td>\n",
       "      <td>kmeans__k=3</td>\n",
       "      <td>exponential</td>\n",
       "      <td>0.9</td>\n",
       "      <td>0.725674</td>\n",
       "      <td>54</td>\n",
       "    </tr>\n",
       "    <tr>\n",
       "      <th>47269</th>\n",
       "      <td>sum_dist_between_centroids</td>\n",
       "      <td>binary</td>\n",
       "      <td>2</td>\n",
       "      <td>False</td>\n",
       "      <td>1.25</td>\n",
       "      <td>250</td>\n",
       "      <td>agglomerative__k=8_linkage=ward</td>\n",
       "      <td>exponential</td>\n",
       "      <td>0.9</td>\n",
       "      <td>0.716032</td>\n",
       "      <td>54</td>\n",
       "    </tr>\n",
       "    <tr>\n",
       "      <th>70789</th>\n",
       "      <td>sum_dist_between_centroids</td>\n",
       "      <td>tfidf</td>\n",
       "      <td>2</td>\n",
       "      <td>False</td>\n",
       "      <td>1.25</td>\n",
       "      <td>250</td>\n",
       "      <td>agglomerative__k=8_linkage=ward</td>\n",
       "      <td>exponential</td>\n",
       "      <td>0.9</td>\n",
       "      <td>0.715040</td>\n",
       "      <td>54</td>\n",
       "    </tr>\n",
       "    <tr>\n",
       "      <th>23756</th>\n",
       "      <td>amplitude_dist_between_centroids</td>\n",
       "      <td>tfidf</td>\n",
       "      <td>2</td>\n",
       "      <td>False</td>\n",
       "      <td>1.25</td>\n",
       "      <td>250</td>\n",
       "      <td>kmeans__k=3</td>\n",
       "      <td>exponential</td>\n",
       "      <td>0.9</td>\n",
       "      <td>0.707826</td>\n",
       "      <td>54</td>\n",
       "    </tr>\n",
       "  </tbody>\n",
       "</table>\n",
       "</div>"
      ],
      "text/plain": [
       "                                measure representation  rolling_window  \\\n",
       "83153        sum_dist_between_centroids    transitions               2   \n",
       "59624        sum_dist_between_centroids      frequency               2   \n",
       "13172  amplitude_dist_between_centroids      frequency               2   \n",
       "35796  amplitude_dist_between_centroids    transitions               2   \n",
       "236    amplitude_dist_between_centroids         binary               2   \n",
       "47269        sum_dist_between_centroids         binary               2   \n",
       "70789        sum_dist_between_centroids          tfidf               2   \n",
       "23756  amplitude_dist_between_centroids          tfidf               2   \n",
       "\n",
       "       sliding_window  std_tolerance  window_size  \\\n",
       "83153           False           1.75          250   \n",
       "59624           False           1.75          250   \n",
       "13172           False           2.25          250   \n",
       "35796           False           1.50          250   \n",
       "236             False           1.25          250   \n",
       "47269           False           1.25          250   \n",
       "70789           False           1.25          250   \n",
       "23756           False           1.25          250   \n",
       "\n",
       "                                 model detection_type  smooth_factor  \\\n",
       "83153                      kmeans__k=8     cumulative            0.2   \n",
       "59624                      kmeans__k=3    exponential            0.9   \n",
       "13172                      kmeans__k=3    exponential            0.9   \n",
       "35796  agglomerative__k=6_linkage=ward    exponential            0.9   \n",
       "236                        kmeans__k=3    exponential            0.9   \n",
       "47269  agglomerative__k=8_linkage=ward    exponential            0.9   \n",
       "70789  agglomerative__k=8_linkage=ward    exponential            0.9   \n",
       "23756                      kmeans__k=3    exponential            0.9   \n",
       "\n",
       "             F1  count  \n",
       "83153  0.750172     54  \n",
       "59624  0.741432     54  \n",
       "13172  0.741323     54  \n",
       "35796  0.734274     54  \n",
       "236    0.725674     54  \n",
       "47269  0.716032     54  \n",
       "70789  0.715040     54  \n",
       "23756  0.707826     54  "
      ]
     },
     "execution_count": 45,
     "metadata": {},
     "output_type": "execute_result"
    }
   ],
   "source": [
    "best_runs"
   ]
  },
  {
   "cell_type": "code",
   "execution_count": 48,
   "metadata": {},
   "outputs": [],
   "source": [
    "def get_results_by_best_run(results, best_runs, i=0):\n",
    "    return results[\n",
    "        (results.measure == best_runs.iloc[i].measure) &\n",
    "        (results.rolling_window == best_runs.iloc[i].rolling_window) &\n",
    "        (results.sliding_window == best_runs.iloc[i].sliding_window) &\n",
    "        (results.std_tolerance == best_runs.iloc[i].std_tolerance) &\n",
    "        (results.window_size == best_runs.iloc[i].window_size) &\n",
    "        (results.representation == best_runs.iloc[i].representation) &\n",
    "        (results.smooth_factor == best_runs.iloc[i].smooth_factor) &\n",
    "        (results.detection_type == best_runs.iloc[i].detection_type) &\n",
    "        (results.model == best_runs.iloc[i].model)\n",
    "    ]"
   ]
  },
  {
   "cell_type": "code",
   "execution_count": 61,
   "metadata": {},
   "outputs": [
    {
     "data": {
      "text/plain": [
       "window_size  log_size\n",
       "50           5000        0.264285\n",
       "             7500        0.219172\n",
       "             10000       0.166400\n",
       "75           5000        0.192333\n",
       "             7500        0.217947\n",
       "             10000       0.131293\n",
       "100          5000        0.344683\n",
       "             7500        0.193917\n",
       "             10000       0.205566\n",
       "150          5000        0.320310\n",
       "             7500        0.338767\n",
       "             10000       0.205571\n",
       "200          5000        0.382446\n",
       "             7500        0.264233\n",
       "             10000       0.355155\n",
       "250          5000        0.437257\n",
       "             7500        0.403466\n",
       "             10000       0.369670\n",
       "300          5000        0.444197\n",
       "             7500        0.343021\n",
       "             10000       0.304911\n",
       "Name: F1, dtype: float64"
      ]
     },
     "execution_count": 61,
     "metadata": {},
     "output_type": "execute_result"
    }
   ],
   "source": [
    "results.groupby([\"window_size\", \"log_size\"]).F1.mean()"
   ]
  },
  {
   "cell_type": "code",
   "execution_count": 114,
   "metadata": {},
   "outputs": [],
   "source": [
    "# best_runs = best_runs.drop_duplicates([\"measure\", \"representation\"], keep=\"first\")"
   ]
  },
  {
   "cell_type": "code",
   "execution_count": 50,
   "metadata": {},
   "outputs": [
    {
     "data": {
      "text/html": [
       "<div>\n",
       "<style scoped>\n",
       "    .dataframe tbody tr th:only-of-type {\n",
       "        vertical-align: middle;\n",
       "    }\n",
       "\n",
       "    .dataframe tbody tr th {\n",
       "        vertical-align: top;\n",
       "    }\n",
       "\n",
       "    .dataframe thead th {\n",
       "        text-align: right;\n",
       "    }\n",
       "</style>\n",
       "<table border=\"1\" class=\"dataframe\">\n",
       "  <thead>\n",
       "    <tr style=\"text-align: right;\">\n",
       "      <th></th>\n",
       "      <th>max</th>\n",
       "      <th>mean</th>\n",
       "      <th>count</th>\n",
       "    </tr>\n",
       "    <tr>\n",
       "      <th>tipo_mudanca</th>\n",
       "      <th></th>\n",
       "      <th></th>\n",
       "      <th></th>\n",
       "    </tr>\n",
       "  </thead>\n",
       "  <tbody>\n",
       "    <tr>\n",
       "      <th>IOR</th>\n",
       "      <td>1.000000</td>\n",
       "      <td>0.865320</td>\n",
       "      <td>3</td>\n",
       "    </tr>\n",
       "    <tr>\n",
       "      <th>IRO</th>\n",
       "      <td>1.000000</td>\n",
       "      <td>0.797980</td>\n",
       "      <td>3</td>\n",
       "    </tr>\n",
       "    <tr>\n",
       "      <th>OIR</th>\n",
       "      <td>1.000000</td>\n",
       "      <td>0.835017</td>\n",
       "      <td>3</td>\n",
       "    </tr>\n",
       "    <tr>\n",
       "      <th>ORI</th>\n",
       "      <td>1.000000</td>\n",
       "      <td>0.851675</td>\n",
       "      <td>3</td>\n",
       "    </tr>\n",
       "    <tr>\n",
       "      <th>RIO</th>\n",
       "      <td>0.941176</td>\n",
       "      <td>0.790918</td>\n",
       "      <td>3</td>\n",
       "    </tr>\n",
       "    <tr>\n",
       "      <th>ROI</th>\n",
       "      <td>1.000000</td>\n",
       "      <td>0.892593</td>\n",
       "      <td>3</td>\n",
       "    </tr>\n",
       "    <tr>\n",
       "      <th>cb</th>\n",
       "      <td>1.000000</td>\n",
       "      <td>0.835017</td>\n",
       "      <td>3</td>\n",
       "    </tr>\n",
       "    <tr>\n",
       "      <th>cd</th>\n",
       "      <td>0.818182</td>\n",
       "      <td>0.798653</td>\n",
       "      <td>3</td>\n",
       "    </tr>\n",
       "    <tr>\n",
       "      <th>cf</th>\n",
       "      <td>1.000000</td>\n",
       "      <td>0.832916</td>\n",
       "      <td>3</td>\n",
       "    </tr>\n",
       "    <tr>\n",
       "      <th>cm</th>\n",
       "      <td>1.000000</td>\n",
       "      <td>0.832916</td>\n",
       "      <td>3</td>\n",
       "    </tr>\n",
       "    <tr>\n",
       "      <th>cp</th>\n",
       "      <td>0.900000</td>\n",
       "      <td>0.750742</td>\n",
       "      <td>3</td>\n",
       "    </tr>\n",
       "    <tr>\n",
       "      <th>fr</th>\n",
       "      <td>0.941176</td>\n",
       "      <td>0.757353</td>\n",
       "      <td>3</td>\n",
       "    </tr>\n",
       "    <tr>\n",
       "      <th>lp</th>\n",
       "      <td>0.384615</td>\n",
       "      <td>0.339744</td>\n",
       "      <td>3</td>\n",
       "    </tr>\n",
       "    <tr>\n",
       "      <th>pl</th>\n",
       "      <td>1.000000</td>\n",
       "      <td>0.814815</td>\n",
       "      <td>3</td>\n",
       "    </tr>\n",
       "    <tr>\n",
       "      <th>pm</th>\n",
       "      <td>1.000000</td>\n",
       "      <td>0.838207</td>\n",
       "      <td>3</td>\n",
       "    </tr>\n",
       "    <tr>\n",
       "      <th>re</th>\n",
       "      <td>0.500000</td>\n",
       "      <td>0.418261</td>\n",
       "      <td>3</td>\n",
       "    </tr>\n",
       "    <tr>\n",
       "      <th>rp</th>\n",
       "      <td>0.714286</td>\n",
       "      <td>0.608466</td>\n",
       "      <td>3</td>\n",
       "    </tr>\n",
       "    <tr>\n",
       "      <th>sw</th>\n",
       "      <td>0.714286</td>\n",
       "      <td>0.642507</td>\n",
       "      <td>3</td>\n",
       "    </tr>\n",
       "  </tbody>\n",
       "</table>\n",
       "</div>"
      ],
      "text/plain": [
       "                   max      mean  count\n",
       "tipo_mudanca                           \n",
       "IOR           1.000000  0.865320      3\n",
       "IRO           1.000000  0.797980      3\n",
       "OIR           1.000000  0.835017      3\n",
       "ORI           1.000000  0.851675      3\n",
       "RIO           0.941176  0.790918      3\n",
       "ROI           1.000000  0.892593      3\n",
       "cb            1.000000  0.835017      3\n",
       "cd            0.818182  0.798653      3\n",
       "cf            1.000000  0.832916      3\n",
       "cm            1.000000  0.832916      3\n",
       "cp            0.900000  0.750742      3\n",
       "fr            0.941176  0.757353      3\n",
       "lp            0.384615  0.339744      3\n",
       "pl            1.000000  0.814815      3\n",
       "pm            1.000000  0.838207      3\n",
       "re            0.500000  0.418261      3\n",
       "rp            0.714286  0.608466      3\n",
       "sw            0.714286  0.642507      3"
      ]
     },
     "execution_count": 50,
     "metadata": {},
     "output_type": "execute_result"
    }
   ],
   "source": [
    "get_results_by_best_run(results, best_runs, 0).groupby(\"tipo_mudanca\").F1.agg([\"max\", \"mean\", \"count\"])"
   ]
  },
  {
   "cell_type": "code",
   "execution_count": 51,
   "metadata": {},
   "outputs": [
    {
     "data": {
      "text/plain": [
       "<matplotlib.axes._subplots.AxesSubplot at 0x7f12c20b2470>"
      ]
     },
     "execution_count": 51,
     "metadata": {},
     "output_type": "execute_result"
    },
    {
     "data": {
      "image/png": "[encoded data removed]",
      "text/plain": [
       "<Figure size 1080x360 with 1 Axes>"
      ]
     },
     "metadata": {
      "needs_background": "light"
     },
     "output_type": "display_data"
    }
   ],
   "source": [
    "dumas = dumas[[\"FWIN\", \"ADWIN\"]].copy()\n",
    "\n",
    "dumas[\"space\"] = [0 for x in dumas.index]\n",
    "\n",
    "test = get_results_by_best_run(results, best_runs, 0).groupby(\"tipo_mudanca\").F1.mean()\n",
    "dumas[\n",
    "    best_runs.iloc[0].representation + \"__\" + best_runs.iloc[0].measure\n",
    "] = test.loc[dumas.index]\n",
    "\n",
    "test = get_results_by_best_run(results, best_runs, 1).groupby(\"tipo_mudanca\").F1.mean()\n",
    "dumas[\n",
    "    best_runs.iloc[1].representation + \"__\" + best_runs.iloc[1].measure\n",
    "] = test.loc[dumas.index]\n",
    "\n",
    "test = get_results_by_best_run(results, best_runs, 2).groupby(\"tipo_mudanca\").F1.mean()\n",
    "dumas[\n",
    "    best_runs.iloc[2].representation + \"__\" + best_runs.iloc[2].measure\n",
    "] = test.loc[dumas.index]\n",
    "\n",
    "dumas.loc[[x for x in dumas.index if x not in [\"re\", \"lp\"]]].plot(kind='bar', figsize=(15, 5))"
   ]
  },
  {
   "cell_type": "code",
   "execution_count": 52,
   "metadata": {},
   "outputs": [
    {
     "data": {
      "text/html": [
       "<div>\n",
       "<style scoped>\n",
       "    .dataframe tbody tr th:only-of-type {\n",
       "        vertical-align: middle;\n",
       "    }\n",
       "\n",
       "    .dataframe tbody tr th {\n",
       "        vertical-align: top;\n",
       "    }\n",
       "\n",
       "    .dataframe thead th {\n",
       "        text-align: right;\n",
       "    }\n",
       "</style>\n",
       "<table border=\"1\" class=\"dataframe\">\n",
       "  <thead>\n",
       "    <tr style=\"text-align: right;\">\n",
       "      <th></th>\n",
       "      <th>measure</th>\n",
       "      <th>representation</th>\n",
       "      <th>rolling_window</th>\n",
       "      <th>sliding_window</th>\n",
       "      <th>std_tolerance</th>\n",
       "      <th>window_size</th>\n",
       "      <th>model</th>\n",
       "      <th>detection_type</th>\n",
       "      <th>smooth_factor</th>\n",
       "      <th>F1</th>\n",
       "      <th>count</th>\n",
       "    </tr>\n",
       "  </thead>\n",
       "  <tbody>\n",
       "    <tr>\n",
       "      <th>83153</th>\n",
       "      <td>sum_dist_between_centroids</td>\n",
       "      <td>transitions</td>\n",
       "      <td>2</td>\n",
       "      <td>False</td>\n",
       "      <td>1.75</td>\n",
       "      <td>250</td>\n",
       "      <td>kmeans__k=8</td>\n",
       "      <td>cumulative</td>\n",
       "      <td>0.2</td>\n",
       "      <td>0.750172</td>\n",
       "      <td>54</td>\n",
       "    </tr>\n",
       "    <tr>\n",
       "      <th>59624</th>\n",
       "      <td>sum_dist_between_centroids</td>\n",
       "      <td>frequency</td>\n",
       "      <td>2</td>\n",
       "      <td>False</td>\n",
       "      <td>1.75</td>\n",
       "      <td>250</td>\n",
       "      <td>kmeans__k=3</td>\n",
       "      <td>exponential</td>\n",
       "      <td>0.9</td>\n",
       "      <td>0.741432</td>\n",
       "      <td>54</td>\n",
       "    </tr>\n",
       "    <tr>\n",
       "      <th>13172</th>\n",
       "      <td>amplitude_dist_between_centroids</td>\n",
       "      <td>frequency</td>\n",
       "      <td>2</td>\n",
       "      <td>False</td>\n",
       "      <td>2.25</td>\n",
       "      <td>250</td>\n",
       "      <td>kmeans__k=3</td>\n",
       "      <td>exponential</td>\n",
       "      <td>0.9</td>\n",
       "      <td>0.741323</td>\n",
       "      <td>54</td>\n",
       "    </tr>\n",
       "    <tr>\n",
       "      <th>35796</th>\n",
       "      <td>amplitude_dist_between_centroids</td>\n",
       "      <td>transitions</td>\n",
       "      <td>2</td>\n",
       "      <td>False</td>\n",
       "      <td>1.50</td>\n",
       "      <td>250</td>\n",
       "      <td>agglomerative__k=6_linkage=ward</td>\n",
       "      <td>exponential</td>\n",
       "      <td>0.9</td>\n",
       "      <td>0.734274</td>\n",
       "      <td>54</td>\n",
       "    </tr>\n",
       "    <tr>\n",
       "      <th>236</th>\n",
       "      <td>amplitude_dist_between_centroids</td>\n",
       "      <td>binary</td>\n",
       "      <td>2</td>\n",
       "      <td>False</td>\n",
       "      <td>1.25</td>\n",
       "      <td>250</td>\n",
       "      <td>kmeans__k=3</td>\n",
       "      <td>exponential</td>\n",
       "      <td>0.9</td>\n",
       "      <td>0.725674</td>\n",
       "      <td>54</td>\n",
       "    </tr>\n",
       "  </tbody>\n",
       "</table>\n",
       "</div>"
      ],
      "text/plain": [
       "                                measure representation  rolling_window  \\\n",
       "83153        sum_dist_between_centroids    transitions               2   \n",
       "59624        sum_dist_between_centroids      frequency               2   \n",
       "13172  amplitude_dist_between_centroids      frequency               2   \n",
       "35796  amplitude_dist_between_centroids    transitions               2   \n",
       "236    amplitude_dist_between_centroids         binary               2   \n",
       "\n",
       "       sliding_window  std_tolerance  window_size  \\\n",
       "83153           False           1.75          250   \n",
       "59624           False           1.75          250   \n",
       "13172           False           2.25          250   \n",
       "35796           False           1.50          250   \n",
       "236             False           1.25          250   \n",
       "\n",
       "                                 model detection_type  smooth_factor  \\\n",
       "83153                      kmeans__k=8     cumulative            0.2   \n",
       "59624                      kmeans__k=3    exponential            0.9   \n",
       "13172                      kmeans__k=3    exponential            0.9   \n",
       "35796  agglomerative__k=6_linkage=ward    exponential            0.9   \n",
       "236                        kmeans__k=3    exponential            0.9   \n",
       "\n",
       "             F1  count  \n",
       "83153  0.750172     54  \n",
       "59624  0.741432     54  \n",
       "13172  0.741323     54  \n",
       "35796  0.734274     54  \n",
       "236    0.725674     54  "
      ]
     },
     "execution_count": 52,
     "metadata": {},
     "output_type": "execute_result"
    }
   ],
   "source": [
    "best_runs.head()"
   ]
  },
  {
   "cell_type": "code",
   "execution_count": 61,
   "metadata": {},
   "outputs": [
    {
     "ename": "IndexError",
     "evalue": "single positional indexer is out-of-bounds",
     "output_type": "error",
     "traceback": [
      "\u001b[0;31m---------------------------------------------------------------------------\u001b[0m",
      "\u001b[0;31mIndexError\u001b[0m                                Traceback (most recent call last)",
      "\u001b[0;32m<ipython-input-61-622ea0b12539>\u001b[0m in \u001b[0;36m<module>\u001b[0;34m\u001b[0m\n\u001b[1;32m      1\u001b[0m \u001b[0mdumas\u001b[0m \u001b[0;34m=\u001b[0m \u001b[0mdumas\u001b[0m\u001b[0;34m[\u001b[0m\u001b[0;34m[\u001b[0m\u001b[0;34m\"FWIN\"\u001b[0m\u001b[0;34m,\u001b[0m \u001b[0;34m\"ADWIN\"\u001b[0m\u001b[0;34m]\u001b[0m\u001b[0;34m]\u001b[0m\u001b[0;34m.\u001b[0m\u001b[0mcopy\u001b[0m\u001b[0;34m(\u001b[0m\u001b[0;34m)\u001b[0m\u001b[0;34m\u001b[0m\u001b[0;34m\u001b[0m\u001b[0m\n\u001b[1;32m      2\u001b[0m \u001b[0;34m\u001b[0m\u001b[0m\n\u001b[0;32m----> 3\u001b[0;31m \u001b[0mtest\u001b[0m \u001b[0;34m=\u001b[0m \u001b[0mget_results_by_best_run\u001b[0m\u001b[0;34m(\u001b[0m\u001b[0mresults\u001b[0m\u001b[0;34m,\u001b[0m \u001b[0mbest_runs\u001b[0m\u001b[0;34m[\u001b[0m\u001b[0mbest_runs\u001b[0m\u001b[0;34m.\u001b[0m\u001b[0mmeasure\u001b[0m \u001b[0;34m==\u001b[0m \u001b[0;34m\"diff_centroids\"\u001b[0m\u001b[0;34m]\u001b[0m\u001b[0;34m,\u001b[0m \u001b[0;36m0\u001b[0m\u001b[0;34m)\u001b[0m\u001b[0;34m.\u001b[0m\u001b[0mgroupby\u001b[0m\u001b[0;34m(\u001b[0m\u001b[0;34m\"tipo_mudanca\"\u001b[0m\u001b[0;34m)\u001b[0m\u001b[0;34m.\u001b[0m\u001b[0mF1\u001b[0m\u001b[0;34m.\u001b[0m\u001b[0mmax\u001b[0m\u001b[0;34m(\u001b[0m\u001b[0;34m)\u001b[0m\u001b[0;34m\u001b[0m\u001b[0;34m\u001b[0m\u001b[0m\n\u001b[0m\u001b[1;32m      4\u001b[0m \u001b[0mdumas\u001b[0m\u001b[0;34m[\u001b[0m\u001b[0;34m\"diff_centroids\"\u001b[0m\u001b[0;34m]\u001b[0m \u001b[0;34m=\u001b[0m \u001b[0mtest\u001b[0m\u001b[0;34m.\u001b[0m\u001b[0mloc\u001b[0m\u001b[0;34m[\u001b[0m\u001b[0mdumas\u001b[0m\u001b[0;34m.\u001b[0m\u001b[0mindex\u001b[0m\u001b[0;34m]\u001b[0m\u001b[0;34m\u001b[0m\u001b[0;34m\u001b[0m\u001b[0m\n\u001b[1;32m      5\u001b[0m \u001b[0;34m\u001b[0m\u001b[0m\n",
      "\u001b[0;32m<ipython-input-57-84222ddc1e9c>\u001b[0m in \u001b[0;36mget_results_by_best_run\u001b[0;34m(results, best_runs, i)\u001b[0m\n\u001b[1;32m      6\u001b[0m         \u001b[0;34m(\u001b[0m\u001b[0mresults\u001b[0m\u001b[0;34m.\u001b[0m\u001b[0mstd_tolerance\u001b[0m \u001b[0;34m==\u001b[0m \u001b[0mbest_runs\u001b[0m\u001b[0;34m.\u001b[0m\u001b[0miloc\u001b[0m\u001b[0;34m[\u001b[0m\u001b[0mi\u001b[0m\u001b[0;34m]\u001b[0m\u001b[0;34m.\u001b[0m\u001b[0mstd_tolerance\u001b[0m\u001b[0;34m)\u001b[0m \u001b[0;34m&\u001b[0m\u001b[0;34m\u001b[0m\u001b[0;34m\u001b[0m\u001b[0m\n\u001b[1;32m      7\u001b[0m         \u001b[0;34m(\u001b[0m\u001b[0mresults\u001b[0m\u001b[0;34m.\u001b[0m\u001b[0mwindow_size\u001b[0m \u001b[0;34m==\u001b[0m \u001b[0mbest_runs\u001b[0m\u001b[0;34m.\u001b[0m\u001b[0miloc\u001b[0m\u001b[0;34m[\u001b[0m\u001b[0mi\u001b[0m\u001b[0;34m]\u001b[0m\u001b[0;34m.\u001b[0m\u001b[0mwindow_size\u001b[0m\u001b[0;34m)\u001b[0m \u001b[0;34m&\u001b[0m\u001b[0;34m\u001b[0m\u001b[0;34m\u001b[0m\u001b[0m\n\u001b[0;32m----> 8\u001b[0;31m         \u001b[0;34m(\u001b[0m\u001b[0mresults\u001b[0m\u001b[0;34m.\u001b[0m\u001b[0mrepresentation\u001b[0m \u001b[0;34m==\u001b[0m \u001b[0mbest_runs\u001b[0m\u001b[0;34m.\u001b[0m\u001b[0miloc\u001b[0m\u001b[0;34m[\u001b[0m\u001b[0mi\u001b[0m\u001b[0;34m]\u001b[0m\u001b[0;34m.\u001b[0m\u001b[0mrepresentation\u001b[0m\u001b[0;34m)\u001b[0m \u001b[0;34m&\u001b[0m\u001b[0;34m\u001b[0m\u001b[0;34m\u001b[0m\u001b[0m\n\u001b[0m\u001b[1;32m      9\u001b[0m         \u001b[0;31m# (results.smooth_factor == best_runs.iloc[i].smooth_factor) &\u001b[0m\u001b[0;34m\u001b[0m\u001b[0;34m\u001b[0m\u001b[0;34m\u001b[0m\u001b[0m\n\u001b[1;32m     10\u001b[0m         \u001b[0;34m(\u001b[0m\u001b[0mresults\u001b[0m\u001b[0;34m.\u001b[0m\u001b[0mmodel\u001b[0m \u001b[0;34m==\u001b[0m \u001b[0mbest_runs\u001b[0m\u001b[0;34m.\u001b[0m\u001b[0miloc\u001b[0m\u001b[0;34m[\u001b[0m\u001b[0mi\u001b[0m\u001b[0;34m]\u001b[0m\u001b[0;34m.\u001b[0m\u001b[0mmodel\u001b[0m\u001b[0;34m)\u001b[0m\u001b[0;34m\u001b[0m\u001b[0;34m\u001b[0m\u001b[0m\n",
      "\u001b[0;32m~/.local/lib/python3.6/site-packages/pandas/core/indexing.py\u001b[0m in \u001b[0;36m__getitem__\u001b[0;34m(self, key)\u001b[0m\n\u001b[1;32m   1422\u001b[0m \u001b[0;34m\u001b[0m\u001b[0m\n\u001b[1;32m   1423\u001b[0m             \u001b[0mmaybe_callable\u001b[0m \u001b[0;34m=\u001b[0m \u001b[0mcom\u001b[0m\u001b[0;34m.\u001b[0m\u001b[0mapply_if_callable\u001b[0m\u001b[0;34m(\u001b[0m\u001b[0mkey\u001b[0m\u001b[0;34m,\u001b[0m \u001b[0mself\u001b[0m\u001b[0;34m.\u001b[0m\u001b[0mobj\u001b[0m\u001b[0;34m)\u001b[0m\u001b[0;34m\u001b[0m\u001b[0;34m\u001b[0m\u001b[0m\n\u001b[0;32m-> 1424\u001b[0;31m             \u001b[0;32mreturn\u001b[0m \u001b[0mself\u001b[0m\u001b[0;34m.\u001b[0m\u001b[0m_getitem_axis\u001b[0m\u001b[0;34m(\u001b[0m\u001b[0mmaybe_callable\u001b[0m\u001b[0;34m,\u001b[0m \u001b[0maxis\u001b[0m\u001b[0;34m=\u001b[0m\u001b[0maxis\u001b[0m\u001b[0;34m)\u001b[0m\u001b[0;34m\u001b[0m\u001b[0;34m\u001b[0m\u001b[0m\n\u001b[0m\u001b[1;32m   1425\u001b[0m \u001b[0;34m\u001b[0m\u001b[0m\n\u001b[1;32m   1426\u001b[0m     \u001b[0;32mdef\u001b[0m \u001b[0m_is_scalar_access\u001b[0m\u001b[0;34m(\u001b[0m\u001b[0mself\u001b[0m\u001b[0;34m,\u001b[0m \u001b[0mkey\u001b[0m\u001b[0;34m:\u001b[0m \u001b[0mTuple\u001b[0m\u001b[0;34m)\u001b[0m\u001b[0;34m:\u001b[0m\u001b[0;34m\u001b[0m\u001b[0;34m\u001b[0m\u001b[0m\n",
      "\u001b[0;32m~/.local/lib/python3.6/site-packages/pandas/core/indexing.py\u001b[0m in \u001b[0;36m_getitem_axis\u001b[0;34m(self, key, axis)\u001b[0m\n\u001b[1;32m   2155\u001b[0m \u001b[0;34m\u001b[0m\u001b[0m\n\u001b[1;32m   2156\u001b[0m             \u001b[0;31m# validate the location\u001b[0m\u001b[0;34m\u001b[0m\u001b[0;34m\u001b[0m\u001b[0;34m\u001b[0m\u001b[0m\n\u001b[0;32m-> 2157\u001b[0;31m             \u001b[0mself\u001b[0m\u001b[0;34m.\u001b[0m\u001b[0m_validate_integer\u001b[0m\u001b[0;34m(\u001b[0m\u001b[0mkey\u001b[0m\u001b[0;34m,\u001b[0m \u001b[0maxis\u001b[0m\u001b[0;34m)\u001b[0m\u001b[0;34m\u001b[0m\u001b[0;34m\u001b[0m\u001b[0m\n\u001b[0m\u001b[1;32m   2158\u001b[0m \u001b[0;34m\u001b[0m\u001b[0m\n\u001b[1;32m   2159\u001b[0m             \u001b[0;32mreturn\u001b[0m \u001b[0mself\u001b[0m\u001b[0;34m.\u001b[0m\u001b[0m_get_loc\u001b[0m\u001b[0;34m(\u001b[0m\u001b[0mkey\u001b[0m\u001b[0;34m,\u001b[0m \u001b[0maxis\u001b[0m\u001b[0;34m=\u001b[0m\u001b[0maxis\u001b[0m\u001b[0;34m)\u001b[0m\u001b[0;34m\u001b[0m\u001b[0;34m\u001b[0m\u001b[0m\n",
      "\u001b[0;32m~/.local/lib/python3.6/site-packages/pandas/core/indexing.py\u001b[0m in \u001b[0;36m_validate_integer\u001b[0;34m(self, key, axis)\u001b[0m\n\u001b[1;32m   2086\u001b[0m         \u001b[0mlen_axis\u001b[0m \u001b[0;34m=\u001b[0m \u001b[0mlen\u001b[0m\u001b[0;34m(\u001b[0m\u001b[0mself\u001b[0m\u001b[0;34m.\u001b[0m\u001b[0mobj\u001b[0m\u001b[0;34m.\u001b[0m\u001b[0m_get_axis\u001b[0m\u001b[0;34m(\u001b[0m\u001b[0maxis\u001b[0m\u001b[0;34m)\u001b[0m\u001b[0;34m)\u001b[0m\u001b[0;34m\u001b[0m\u001b[0;34m\u001b[0m\u001b[0m\n\u001b[1;32m   2087\u001b[0m         \u001b[0;32mif\u001b[0m \u001b[0mkey\u001b[0m \u001b[0;34m>=\u001b[0m \u001b[0mlen_axis\u001b[0m \u001b[0;32mor\u001b[0m \u001b[0mkey\u001b[0m \u001b[0;34m<\u001b[0m \u001b[0;34m-\u001b[0m\u001b[0mlen_axis\u001b[0m\u001b[0;34m:\u001b[0m\u001b[0;34m\u001b[0m\u001b[0;34m\u001b[0m\u001b[0m\n\u001b[0;32m-> 2088\u001b[0;31m             \u001b[0;32mraise\u001b[0m \u001b[0mIndexError\u001b[0m\u001b[0;34m(\u001b[0m\u001b[0;34m\"single positional indexer is out-of-bounds\"\u001b[0m\u001b[0;34m)\u001b[0m\u001b[0;34m\u001b[0m\u001b[0;34m\u001b[0m\u001b[0m\n\u001b[0m\u001b[1;32m   2089\u001b[0m \u001b[0;34m\u001b[0m\u001b[0m\n\u001b[1;32m   2090\u001b[0m     \u001b[0;32mdef\u001b[0m \u001b[0m_getitem_tuple\u001b[0m\u001b[0;34m(\u001b[0m\u001b[0mself\u001b[0m\u001b[0;34m,\u001b[0m \u001b[0mtup\u001b[0m\u001b[0;34m)\u001b[0m\u001b[0;34m:\u001b[0m\u001b[0;34m\u001b[0m\u001b[0;34m\u001b[0m\u001b[0m\n",
      "\u001b[0;31mIndexError\u001b[0m: single positional indexer is out-of-bounds"
     ]
    }
   ],
   "source": [
    "dumas = dumas[[\"FWIN\", \"ADWIN\"]].copy()\n",
    "\n",
    "test = get_results_by_best_run(results, best_runs[best_runs.measure == \"diff_centroids\"], 0).groupby(\"tipo_mudanca\").F1.max()\n",
    "dumas[\"diff_centroids\"] = test.loc[dumas.index]\n",
    "\n",
    "test = get_results_by_best_run(results, best_runs[best_runs.measure == \"avg_dist_between_centroids\"], 0).groupby(\"tipo_mudanca\").F1.max()\n",
    "dumas[\"avg_dist_between_centroids\"] = test.loc[dumas.index]\n",
    "\n",
    "test = get_results_by_best_run(results, best_runs[best_runs.measure == \"dist_intra_cluster\"], 0).groupby(\"tipo_mudanca\").F1.max()\n",
    "dumas[\"dist_intra_cluster\"] = test.loc[dumas.index]\n",
    "\n",
    "dumas.plot(kind='bar', figsize=(15, 5))"
   ]
  },
  {
   "cell_type": "code",
   "execution_count": 99,
   "metadata": {},
   "outputs": [
    {
     "data": {
      "text/plain": [
       "0"
      ]
     },
     "execution_count": 99,
     "metadata": {},
     "output_type": "execute_result"
    }
   ],
   "source": [
    "import gc\n",
    "gc.collect()"
   ]
  }
 ],
 "metadata": {
  "kernelspec": {
   "display_name": "Python 3",
   "language": "python",
   "name": "python3"
  },
  "language_info": {
   "codemirror_mode": {
    "name": "ipython",
    "version": 3
   },
   "file_extension": ".py",
   "mimetype": "text/x-python",
   "name": "python",
   "nbconvert_exporter": "python",
   "pygments_lexer": "ipython3",
   "version": "3.6.9"
  }
 },
 "nbformat": 4,
 "nbformat_minor": 2
}
