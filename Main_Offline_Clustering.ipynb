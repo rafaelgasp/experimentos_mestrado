{
 "cells": [
  {
   "cell_type": "code",
   "execution_count": 69,
   "metadata": {},
   "outputs": [
    {
     "name": "stdout",
     "output_type": "stream",
     "text": [
      "3.6.9 (default, Nov  7 2019, 10:44:02) \n",
      "[GCC 8.3.0]\n"
     ]
    }
   ],
   "source": [
    "import sys\n",
    "print(sys.version)"
   ]
  },
  {
   "cell_type": "code",
   "execution_count": 2,
   "metadata": {},
   "outputs": [],
   "source": [
    "# wget --no-check-certificate -r 'https://docs.google.com/uc?export=download&id=14UBHX6GTW_4YiyjNJB3EEq7Xb83AjuaK' -O process_mining_datasets.zip\n",
    "\n",
    "import pandas as pd\n",
    "# pd.set_option(\"max_columns\", 200)\n",
    "import numpy as np\n",
    "from tqdm import tqdm\n",
    "\n",
    "%load_ext autoreload\n",
    "%autoreload 2\n",
    "\n",
    "# Meus pacotes\n",
    "import parse_mxml as pm\n",
    "import log_representation as lr\n",
    "import plots as plts\n",
    "import model_utils as mu\n",
    "import drift_detection as dd\n",
    "import offline_streaming_clustering as off_sc\n",
    "\n",
    "from scipy.spatial import distance\n",
    "from sklearn.base import clone as sk_clone \n",
    "import traceback \n",
    "\n",
    "from copy import deepcopy\n",
    "import random\n",
    "random.seed(42)\n",
    "import os\n",
    "import re\n",
    "import warnings\n",
    "warnings.filterwarnings(\"ignore\")\n",
    "\n",
    "import glob\n",
    "\n",
    "from sklearn.cluster import KMeans, AgglomerativeClustering\n",
    "\n",
    "import gc\n",
    "gc.enable()\n",
    "\n",
    "# # # # # # # # # # #\n",
    "# LOAN APPLICATIONS #\n",
    "# # # # # # # # # # #\n",
    "aliases = {\n",
    "    'Loan__application_received': 'START',\n",
    "    'Appraise_property': 'A',\n",
    "    'Approve_application': 'B',\n",
    "    'Assess_eligibility': 'C',\n",
    "    'Assess_loan_risk': 'D',\n",
    "    'Cancel_application': 'E',\n",
    "    'Check__application__form_completeness': 'F',\n",
    "    'Check_credit_history': 'G',\n",
    "    'Check_if_home_insurance_quote_is_requested': 'H',\n",
    "    'Prepare_acceptance_pack': 'I',\n",
    "    'Receive_updated_application': 'J',\n",
    "    'Reject_application': 'K',\n",
    "    'Return_application_back_to_applicant': 'L',\n",
    "    'Send_acceptance_pack': 'M',\n",
    "    'Send_home_insurance_quote': 'N',\n",
    "    'Verify_repayment_agreement': 'O',\n",
    "    'Loan__application_approved': 'END_A',\n",
    "    'Loan_application_rejected': 'END_R',\n",
    "    'Loan__application_canceled': 'END_C',\n",
    "}\n",
    "\n",
    "inv_aliases = {v: k for k, v in aliases.items()}"
   ]
  },
  {
   "cell_type": "code",
   "execution_count": 3,
   "metadata": {},
   "outputs": [],
   "source": [
    "def insensitive_glob(pattern):\n",
    "    def either(c):\n",
    "        return '[%s%s]' % (c.lower(), c.upper()) if c.isalpha() else c\n",
    "    return glob.glob(''.join(map(either, pattern)))"
   ]
  },
  {
   "cell_type": "code",
   "execution_count": 4,
   "metadata": {},
   "outputs": [],
   "source": [
    "logs = insensitive_glob(\"../process_mining_datasets/*/*k.MXML\")"
   ]
  },
  {
   "cell_type": "code",
   "execution_count": 5,
   "metadata": {},
   "outputs": [],
   "source": [
    "logs = [x for x in logs if \"2.5\" not in x]"
   ]
  },
  {
   "cell_type": "code",
   "execution_count": 6,
   "metadata": {},
   "outputs": [],
   "source": [
    "objects = {\n",
    "    \"model\": {\n",
    "        \"kmeans__k=8\": KMeans(n_clusters=8, random_state=42, n_jobs=6),\n",
    "        \"kmeans__k=6\": KMeans(n_clusters=6, random_state=42, n_jobs=6),\n",
    "        \"kmeans__k=3\": KMeans(n_clusters=3, random_state=42, n_jobs=3),\n",
    "        \"agglomerative__k=8_linkage=ward\": AgglomerativeClustering(n_clusters=8, linkage='ward'),\n",
    "        \"agglomerative__k=6_linkage=ward\": AgglomerativeClustering(n_clusters=6, linkage='ward'),\n",
    "        \"agglomerative__k=3_linkage=ward\": AgglomerativeClustering(n_clusters=3, linkage='ward'),\n",
    "    },\n",
    "    \n",
    "    \"representation\": {\n",
    "        \"binary\": lambda x: lr.get_binary_representation(lr.get_traces_as_tokens(x)),\n",
    "        \"frequency\": lambda x: lr.get_frequency_representation(lr.get_traces_as_tokens(x)),\n",
    "        \"tfidf\": lambda x: lr.get_tfidf_representation(lr.get_traces_as_tokens(x)),\n",
    "        \"transitions\": lambda x: lr.get_binary_transitions_representation(lr.get_traces_as_tokens(x)),\n",
    "        #\"positions\": lambda x: lr.get_positions_representation(lr.get_traces_as_tokens(x)),\n",
    "        #\"positions_min_max\": lambda x: lr.get_min_max_positions_representation(lr.get_traces_as_tokens(x)),\n",
    "        #\"positions_avg\": lambda x: lr.get_positions_representation(lr.get_traces_as_tokens(x), include_cols=[\"_avg\"]),\n",
    "    }\n",
    "}"
   ]
  },
  {
   "cell_type": "code",
   "execution_count": 7,
   "metadata": {},
   "outputs": [],
   "source": [
    "config = {\n",
    "    \"log\": [x for x in logs if \"2.5\" not in x],\n",
    "    \"representation\": ['binary', 'frequency', 'tfidf', 'transitions'],\n",
    "    \"sliding_window\": [False, True],\n",
    "    \"window_size\": [50, 100, 150, 200, 250, 300],\n",
    "    \"model\": [\n",
    "        'kmeans__k=8', 'agglomerative__k=8_linkage=ward',\n",
    "        'kmeans__k=6', 'agglomerative__k=6_linkage=ward',\n",
    "        'kmeans__k=3', 'agglomerative__k=3_linkage=ward'\n",
    "    ]\n",
    "}"
   ]
  },
  {
   "cell_type": "code",
   "execution_count": 8,
   "metadata": {},
   "outputs": [
    {
     "data": {
      "text/plain": [
       "15552"
      ]
     },
     "execution_count": 8,
     "metadata": {},
     "output_type": "execute_result"
    }
   ],
   "source": [
    "from sklearn.model_selection import ParameterGrid\n",
    "combinations = list(ParameterGrid(config))\n",
    "len(combinations)"
   ]
  },
  {
   "cell_type": "code",
   "execution_count": 23,
   "metadata": {},
   "outputs": [],
   "source": [
    "def run_pipeline(args):\n",
    "    try:\n",
    "        r = {}\n",
    "        \n",
    "        # Tratamento do caminho do arquivo para estruturar nomes\n",
    "        # e tamanho do log\n",
    "        split = args[\"log\"].split(\"/\")\n",
    "\n",
    "        cd_name = split[2]\n",
    "        log_name = split[3][:-5]\n",
    "\n",
    "        log_size = log_name.replace(cd_name, \"\")\n",
    "        log_size = int(float(log_size.replace(\"k\", \"\")) * 1000)\n",
    "\n",
    "        # Monta o vetor de resposta\n",
    "        y_true = [x for x in range(int(log_size/10), log_size, int(log_size/10))]\n",
    "\n",
    "        # String para identificação da memória cache\n",
    "        cached_info = \"_\".join([\n",
    "            log_name, str(log_size), args[\"model\"], args[\"representation\"], str(args[\"window_size\"]), str(args[\"sliding_window\"])\n",
    "        ])\n",
    "\n",
    "        # print(cached_info, end=\"\\r\")\n",
    "        \n",
    "        # Lê o log e aplica a representação\n",
    "        log_read = pm.all_prep(args[\"log\"], aliases)\n",
    "        df = objects[\"representation\"][args[\"representation\"]](\n",
    "            log_read\n",
    "        )\n",
    "\n",
    "\n",
    "        run_df, measures_df = off_sc.run_offline_clustering_window(\n",
    "            sk_clone(objects[\"model\"][args[\"model\"]]),\n",
    "            args[\"window_size\"],\n",
    "            df,\n",
    "            args[\"sliding_window\"]\n",
    "        )\n",
    "\n",
    "        all_metrics = run_df.join(measures_df)\n",
    "        \n",
    "        dir_name = \"../offline_window_clustering_results_v2/\" + cd_name + \"/\"\n",
    "        try:\n",
    "            os.makedirs(dir_name)\n",
    "        except:\n",
    "            pass\n",
    "        \n",
    "        all_metrics.to_csv(dir_name + cached_info + \".csv\")\n",
    "        \n",
    "        test = pd.read_csv(dir_name + cached_info + \".csv\", index_col=0)\n",
    "        assert test.shape == all_metrics.shape\n",
    "\n",
    "    except Exception as e:\n",
    "        traceback.print_exc()"
   ]
  },
  {
   "cell_type": "code",
   "execution_count": 24,
   "metadata": {},
   "outputs": [],
   "source": [
    "args = combinations[0]"
   ]
  },
  {
   "cell_type": "code",
   "execution_count": 31,
   "metadata": {},
   "outputs": [],
   "source": [
    "run_pipeline(combinations[0])"
   ]
  },
  {
   "cell_type": "code",
   "execution_count": 32,
   "metadata": {},
   "outputs": [],
   "source": [
    "from joblib import Parallel, delayed, parallel_backend\n",
    "from tqdm import tqdm"
   ]
  },
  {
   "cell_type": "code",
   "execution_count": 33,
   "metadata": {},
   "outputs": [
    {
     "name": "stderr",
     "output_type": "stream",
     "text": [
      "100%|██████████| 15552/15552 [1:08:27<00:00,  3.79it/s]\n"
     ]
    }
   ],
   "source": [
    "final_resp = Parallel(n_jobs=42)(\n",
    "    delayed(run_pipeline)(comb) for comb in tqdm(combinations)\n",
    ")"
   ]
  },
  {
   "cell_type": "code",
   "execution_count": 43,
   "metadata": {},
   "outputs": [],
   "source": [
    "test = pd.read_csv(\"../offline_window_clustering_results_v2/sw/sw7.5k_7500_kmeans__k=6_transitions_200_False.csv\", index_col=0)"
   ]
  },
  {
   "cell_type": "code",
   "execution_count": 45,
   "metadata": {},
   "outputs": [
    {
     "data": {
      "text/plain": [
       "<matplotlib.axes._subplots.AxesSubplot at 0x7f9edfed9b70>"
      ]
     },
     "execution_count": 45,
     "metadata": {},
     "output_type": "execute_result"
    },
    {
     "data": {
      "image/png": "[encoded data removed]",
      "text/plain": [
       "<Figure size 432x288 with 1 Axes>"
      ]
     },
     "metadata": {
      "needs_background": "light"
     },
     "output_type": "display_data"
    }
   ],
   "source": [
    "test.min_dist_between_centroids.plot()"
   ]
  },
  {
   "cell_type": "code",
   "execution_count": 39,
   "metadata": {},
   "outputs": [
    {
     "data": {
      "text/html": [
       "<div>\n",
       "<style scoped>\n",
       "    .dataframe tbody tr th:only-of-type {\n",
       "        vertical-align: middle;\n",
       "    }\n",
       "\n",
       "    .dataframe tbody tr th {\n",
       "        vertical-align: top;\n",
       "    }\n",
       "\n",
       "    .dataframe thead th {\n",
       "        text-align: right;\n",
       "    }\n",
       "</style>\n",
       "<table border=\"1\" class=\"dataframe\">\n",
       "  <thead>\n",
       "    <tr style=\"text-align: right;\">\n",
       "      <th></th>\n",
       "      <th>k</th>\n",
       "      <th>Silhouette</th>\n",
       "      <th>DBi</th>\n",
       "      <th>centroids</th>\n",
       "      <th>avg_dist_between_centroids</th>\n",
       "      <th>std_dist_between_centroids</th>\n",
       "      <th>min_dist_between_centroids</th>\n",
       "      <th>max_dist_between_centroids</th>\n",
       "      <th>radius_list</th>\n",
       "      <th>dist_intra_cluster_list</th>\n",
       "      <th>...</th>\n",
       "      <th>avg_MSE</th>\n",
       "      <th>count_non_zero_MSE</th>\n",
       "      <th>diff_avg_dist_between_centroids</th>\n",
       "      <th>diff_std_dist_between_centroids</th>\n",
       "      <th>diff_min_dist_between_centroids</th>\n",
       "      <th>diff_max_dist_between_centroids</th>\n",
       "      <th>diff_radius</th>\n",
       "      <th>diff_dist_intra_cluster</th>\n",
       "      <th>diff_skewness</th>\n",
       "      <th>diff_cluster_std</th>\n",
       "    </tr>\n",
       "    <tr>\n",
       "      <th>i</th>\n",
       "      <th></th>\n",
       "      <th></th>\n",
       "      <th></th>\n",
       "      <th></th>\n",
       "      <th></th>\n",
       "      <th></th>\n",
       "      <th></th>\n",
       "      <th></th>\n",
       "      <th></th>\n",
       "      <th></th>\n",
       "      <th></th>\n",
       "      <th></th>\n",
       "      <th></th>\n",
       "      <th></th>\n",
       "      <th></th>\n",
       "      <th></th>\n",
       "      <th></th>\n",
       "      <th></th>\n",
       "      <th></th>\n",
       "      <th></th>\n",
       "      <th></th>\n",
       "    </tr>\n",
       "  </thead>\n",
       "  <tbody>\n",
       "    <tr>\n",
       "      <th>0</th>\n",
       "      <td>5</td>\n",
       "      <td>0.658021</td>\n",
       "      <td>0.954659</td>\n",
       "      <td>[[0.         0.         1.         0.         ...</td>\n",
       "      <td>2.878804</td>\n",
       "      <td>0.492355</td>\n",
       "      <td>2.449497</td>\n",
       "      <td>3.490202</td>\n",
       "      <td>[1.6184737054332132, 1.612599027736541, 1.4308...</td>\n",
       "      <td>[0.21579649405776175, 0.23037128967664872, 0.5...</td>\n",
       "      <td>...</td>\n",
       "      <td>NaN</td>\n",
       "      <td>NaN</td>\n",
       "      <td>NaN</td>\n",
       "      <td>NaN</td>\n",
       "      <td>NaN</td>\n",
       "      <td>NaN</td>\n",
       "      <td>NaN</td>\n",
       "      <td>NaN</td>\n",
       "      <td>NaN</td>\n",
       "      <td>NaN</td>\n",
       "    </tr>\n",
       "    <tr>\n",
       "      <th>50</th>\n",
       "      <td>5</td>\n",
       "      <td>0.665691</td>\n",
       "      <td>0.966741</td>\n",
       "      <td>[[0.         0.         1.         0.         ...</td>\n",
       "      <td>2.866428</td>\n",
       "      <td>0.494579</td>\n",
       "      <td>2.449921</td>\n",
       "      <td>3.478778</td>\n",
       "      <td>[1.637575308974211, 1.591614255603833, 1.44337...</td>\n",
       "      <td>[0.1819528121082457, 0.2652690426006389, 0.502...</td>\n",
       "      <td>...</td>\n",
       "      <td>0.063385</td>\n",
       "      <td>17.0</td>\n",
       "      <td>-0.012376</td>\n",
       "      <td>0.002224</td>\n",
       "      <td>0.000424</td>\n",
       "      <td>-0.011424</td>\n",
       "      <td>0.016659</td>\n",
       "      <td>0.003260</td>\n",
       "      <td>0.000232</td>\n",
       "      <td>1.118234e-06</td>\n",
       "    </tr>\n",
       "    <tr>\n",
       "      <th>100</th>\n",
       "      <td>5</td>\n",
       "      <td>0.660356</td>\n",
       "      <td>0.901783</td>\n",
       "      <td>[[0.         1.         0.         0.         ...</td>\n",
       "      <td>2.892132</td>\n",
       "      <td>0.489058</td>\n",
       "      <td>2.449955</td>\n",
       "      <td>3.514188</td>\n",
       "      <td>[1.6779242198323499, 1.6301654659471785, 1.495...</td>\n",
       "      <td>[0.10825317547305481, 0.1956198559136614, 0.42...</td>\n",
       "      <td>...</td>\n",
       "      <td>0.160388</td>\n",
       "      <td>20.0</td>\n",
       "      <td>0.025704</td>\n",
       "      <td>-0.005521</td>\n",
       "      <td>0.000034</td>\n",
       "      <td>0.035410</td>\n",
       "      <td>0.002513</td>\n",
       "      <td>0.011557</td>\n",
       "      <td>0.000143</td>\n",
       "      <td>1.253959e-06</td>\n",
       "    </tr>\n",
       "    <tr>\n",
       "      <th>150</th>\n",
       "      <td>5</td>\n",
       "      <td>0.659151</td>\n",
       "      <td>0.907638</td>\n",
       "      <td>[[0.         1.         0.         0.         ...</td>\n",
       "      <td>2.875152</td>\n",
       "      <td>0.495404</td>\n",
       "      <td>2.449969</td>\n",
       "      <td>3.503095</td>\n",
       "      <td>[1.6723249176527093, 1.6037507477489605, 1.555...</td>\n",
       "      <td>[0.11945177983233636, 0.24673088426907083, 0.3...</td>\n",
       "      <td>...</td>\n",
       "      <td>0.129918</td>\n",
       "      <td>17.0</td>\n",
       "      <td>-0.016980</td>\n",
       "      <td>0.006346</td>\n",
       "      <td>0.000013</td>\n",
       "      <td>-0.011093</td>\n",
       "      <td>0.005803</td>\n",
       "      <td>0.006725</td>\n",
       "      <td>0.000258</td>\n",
       "      <td>1.626531e-06</td>\n",
       "    </tr>\n",
       "    <tr>\n",
       "      <th>200</th>\n",
       "      <td>5</td>\n",
       "      <td>0.628475</td>\n",
       "      <td>0.925908</td>\n",
       "      <td>[[0.         1.         0.         0.         ...</td>\n",
       "      <td>2.865954</td>\n",
       "      <td>0.496146</td>\n",
       "      <td>2.449926</td>\n",
       "      <td>3.483963</td>\n",
       "      <td>[1.6743157806499147, 1.5814376938672359, 1.535...</td>\n",
       "      <td>[0.11547005383792515, 0.28753412615767926, 0.3...</td>\n",
       "      <td>...</td>\n",
       "      <td>0.095859</td>\n",
       "      <td>20.0</td>\n",
       "      <td>-0.009198</td>\n",
       "      <td>0.000742</td>\n",
       "      <td>-0.000043</td>\n",
       "      <td>-0.019132</td>\n",
       "      <td>0.003014</td>\n",
       "      <td>0.007782</td>\n",
       "      <td>0.000069</td>\n",
       "      <td>4.102704e-07</td>\n",
       "    </tr>\n",
       "  </tbody>\n",
       "</table>\n",
       "<p>5 rows × 36 columns</p>\n",
       "</div>"
      ],
      "text/plain": [
       "     k  Silhouette       DBi  \\\n",
       "i                              \n",
       "0    5    0.658021  0.954659   \n",
       "50   5    0.665691  0.966741   \n",
       "100  5    0.660356  0.901783   \n",
       "150  5    0.659151  0.907638   \n",
       "200  5    0.628475  0.925908   \n",
       "\n",
       "                                             centroids  \\\n",
       "i                                                        \n",
       "0    [[0.         0.         1.         0.         ...   \n",
       "50   [[0.         0.         1.         0.         ...   \n",
       "100  [[0.         1.         0.         0.         ...   \n",
       "150  [[0.         1.         0.         0.         ...   \n",
       "200  [[0.         1.         0.         0.         ...   \n",
       "\n",
       "     avg_dist_between_centroids  std_dist_between_centroids  \\\n",
       "i                                                             \n",
       "0                      2.878804                    0.492355   \n",
       "50                     2.866428                    0.494579   \n",
       "100                    2.892132                    0.489058   \n",
       "150                    2.875152                    0.495404   \n",
       "200                    2.865954                    0.496146   \n",
       "\n",
       "     min_dist_between_centroids  max_dist_between_centroids  \\\n",
       "i                                                             \n",
       "0                      2.449497                    3.490202   \n",
       "50                     2.449921                    3.478778   \n",
       "100                    2.449955                    3.514188   \n",
       "150                    2.449969                    3.503095   \n",
       "200                    2.449926                    3.483963   \n",
       "\n",
       "                                           radius_list  \\\n",
       "i                                                        \n",
       "0    [1.6184737054332132, 1.612599027736541, 1.4308...   \n",
       "50   [1.637575308974211, 1.591614255603833, 1.44337...   \n",
       "100  [1.6779242198323499, 1.6301654659471785, 1.495...   \n",
       "150  [1.6723249176527093, 1.6037507477489605, 1.555...   \n",
       "200  [1.6743157806499147, 1.5814376938672359, 1.535...   \n",
       "\n",
       "                               dist_intra_cluster_list  ...   avg_MSE  \\\n",
       "i                                                       ...             \n",
       "0    [0.21579649405776175, 0.23037128967664872, 0.5...  ...       NaN   \n",
       "50   [0.1819528121082457, 0.2652690426006389, 0.502...  ...  0.063385   \n",
       "100  [0.10825317547305481, 0.1956198559136614, 0.42...  ...  0.160388   \n",
       "150  [0.11945177983233636, 0.24673088426907083, 0.3...  ...  0.129918   \n",
       "200  [0.11547005383792515, 0.28753412615767926, 0.3...  ...  0.095859   \n",
       "\n",
       "    count_non_zero_MSE  diff_avg_dist_between_centroids  \\\n",
       "i                                                         \n",
       "0                  NaN                              NaN   \n",
       "50                17.0                        -0.012376   \n",
       "100               20.0                         0.025704   \n",
       "150               17.0                        -0.016980   \n",
       "200               20.0                        -0.009198   \n",
       "\n",
       "     diff_std_dist_between_centroids  diff_min_dist_between_centroids  \\\n",
       "i                                                                       \n",
       "0                                NaN                              NaN   \n",
       "50                          0.002224                         0.000424   \n",
       "100                        -0.005521                         0.000034   \n",
       "150                         0.006346                         0.000013   \n",
       "200                         0.000742                        -0.000043   \n",
       "\n",
       "     diff_max_dist_between_centroids  diff_radius  diff_dist_intra_cluster  \\\n",
       "i                                                                            \n",
       "0                                NaN          NaN                      NaN   \n",
       "50                         -0.011424     0.016659                 0.003260   \n",
       "100                         0.035410     0.002513                 0.011557   \n",
       "150                        -0.011093     0.005803                 0.006725   \n",
       "200                        -0.019132     0.003014                 0.007782   \n",
       "\n",
       "     diff_skewness  diff_cluster_std  \n",
       "i                                     \n",
       "0              NaN               NaN  \n",
       "50        0.000232      1.118234e-06  \n",
       "100       0.000143      1.253959e-06  \n",
       "150       0.000258      1.626531e-06  \n",
       "200       0.000069      4.102704e-07  \n",
       "\n",
       "[5 rows x 36 columns]"
      ]
     },
     "execution_count": 39,
     "metadata": {},
     "output_type": "execute_result"
    }
   ],
   "source": [
    "test.head()"
   ]
  },
  {
   "cell_type": "markdown",
   "metadata": {},
   "source": [
    "## Drift"
   ]
  },
  {
   "cell_type": "code",
   "execution_count": null,
   "metadata": {},
   "outputs": [],
   "source": [
    "drift_config = [\n",
    "#     {\n",
    "#         \"input\": insensitive_glob(\"../offline_window_clustering_results_v2/*/*.csv\"),\n",
    "#         \"detection_type\": [\"tradicional\"],\n",
    "#         \"rolling_window\": [2, 5],\n",
    "#         \"std_tolerance\": [1.25, 1.5, 1.75, 2, 2.25],\n",
    "#     },\n",
    "    {\n",
    "        \"input\": insensitive_glob(\"../offline_window_clustering_results_v2/*/*.csv\"),\n",
    "        \"detection_type\": [\"cumulative\"],\n",
    "        \"rolling_window\": [3, 4],\n",
    "        \"std_tolerance\": [1.25, 1.5, 1.75, 2, 2.25],\n",
    "        \"smooth_factor\": [0.2, 0.4, 0.6, 0.8]\n",
    "    },\n",
    "#     {\n",
    "#         \"input\": os.listdir(\"../offline_window_clustering_results\"),\n",
    "#         \"detection_type\": [\"exponential\", \"cumulative\"],\n",
    "#         \"rolling_window\": [3, 4],\n",
    "#         \"std_tolerance\": [1.25, 1.5, 1.75, 2, 2.25],\n",
    "#         \"smooth_factor\": [0.2, 0.4, 0.6, 0.8]\n",
    "#     }\n",
    "]"
   ]
  },
  {
   "cell_type": "code",
   "execution_count": 71,
   "metadata": {},
   "outputs": [],
   "source": [
    "def my_split(s):\n",
    "    return list(filter(None, re.split(r'(\\d+)', s)))\n",
    "\n",
    "def parse_name_info(name):\n",
    "    return {\n",
    "        \"tipo_mudanca\": my_split(name[0])[0],\n",
    "        \"log_size\": int(name[1]),\n",
    "        \"representation\": name[-3],\n",
    "        \"window_size\": int(name[-2]),\n",
    "        \"model\": \"_\".join(name[2:-3]),\n",
    "        \"sliding_window\": name[-1].split(\".\")[0]\n",
    "    }"
   ]
  },
  {
   "cell_type": "code",
   "execution_count": 72,
   "metadata": {},
   "outputs": [
    {
     "data": {
      "text/plain": [
       "{'tipo_mudanca': 'RIO',\n",
       " 'log_size': 7500,\n",
       " 'representation': 'frequency',\n",
       " 'window_size': 250,\n",
       " 'model': 'kmeans__k=3',\n",
       " 'sliding_window': 'True'}"
      ]
     },
     "execution_count": 72,
     "metadata": {},
     "output_type": "execute_result"
    }
   ],
   "source": [
    "parse_name_info(drift_config[0][\"input\"][1].split(\"/\")[-1].split(\"_\"))"
   ]
  },
  {
   "cell_type": "code",
   "execution_count": 73,
   "metadata": {},
   "outputs": [
    {
     "data": {
      "text/plain": [
       "155520"
      ]
     },
     "execution_count": 73,
     "metadata": {},
     "output_type": "execute_result"
    }
   ],
   "source": [
    "from sklearn.model_selection import ParameterGrid\n",
    "combinations = list(ParameterGrid(drift_config))\n",
    "len(combinations)"
   ]
  },
  {
   "cell_type": "code",
   "execution_count": 74,
   "metadata": {},
   "outputs": [],
   "source": [
    "def drift_detect_pipeline(args):\n",
    "    all_metrics = pd.read_csv(args[\"input\"], index_col=0)\n",
    "    \n",
    "    info = parse_name_info(args[\"input\"].split(\"/\")[-1].split(\"_\"))\n",
    "    # print(info)\n",
    "    # Monta o vetor de resposta\n",
    "    y_true = [x for x in range(int(info[\"log_size\"]/10), info[\"log_size\"], int(info[\"log_size\"]/10))]\n",
    "    \n",
    "    results = []\n",
    "    for col in all_metrics.select_dtypes(include=np.number).columns:\n",
    "        if (col not in [\"k\"] and not col.startswith(\"diff\") ) or col in [\"diff_centroids\"]:\n",
    "            r = deepcopy(info)\n",
    "            r[\"measure\"] = col\n",
    "\n",
    "            # print(col)\n",
    "            # print(all_metrics[col].dtype)\n",
    "\n",
    "            if args[\"detection_type\"] == \"tradicional\":\n",
    "                detected_drifts, extra = dd.detect_concept_drift(\n",
    "                    all_metrics, \n",
    "                    col,\n",
    "                    args[\"rolling_window\"],\n",
    "                    args[\"std_tolerance\"]\n",
    "                )\n",
    "\n",
    "            if args[\"detection_type\"] == \"cumulative\":\n",
    "                detected_drifts, extra = dd.cumulative_detect_concept_drift(\n",
    "                    all_metrics, \n",
    "                    col,\n",
    "                    args[\"rolling_window\"],\n",
    "                    args[\"std_tolerance\"]\n",
    "                )\n",
    "\n",
    "\n",
    "            if args[\"detection_type\"] == \"exponential\":\n",
    "                detected_drifts, extra = dd.exponential_smooth_detect_concept_drift(\n",
    "                    all_metrics,\n",
    "                    col,\n",
    "                    args[\"rolling_window\"],\n",
    "                    args[\"std_tolerance\"],\n",
    "                    args[\"smooth_factor\"]\n",
    "                )\n",
    "\n",
    "\n",
    "            metrics_results = dd.get_metrics(\n",
    "                detected_drifts,\n",
    "                y_true,\n",
    "                info[\"window_size\"]\n",
    "            )\n",
    "\n",
    "\n",
    "            r.update(args)\n",
    "            r.update(metrics_results)\n",
    "\n",
    "            results.append(r)\n",
    "\n",
    "            gc.collect()\n",
    "    \n",
    "    \n",
    "    to_string = [args[\"detection_type\"], str(args[\"rolling_window\"]), str(args[\"std_tolerance\"]).replace(\".\", \"-\")]\n",
    "    if \"smooth_factor\" in args:\n",
    "        to_string += [str(args[\"smooth_factor\"]).replace(\".\", \"-\")]\n",
    "    \n",
    "    base_name = args[\"input\"].replace(\".csv\", \"\")\n",
    "    base_name = base_name.replace(\"offline_window_clustering_results_v2\", \"drift_detection_results_v2\")\n",
    "    \n",
    "    try:\n",
    "        os.makedirs(base_name)\n",
    "    except:\n",
    "        pass\n",
    "    \n",
    "    pd.DataFrame(results).to_csv(\n",
    "        base_name + \"/\" + \"_\".join(to_string) + \".csv\",\n",
    "        sep=\";\"\n",
    "    )\n",
    "    # print(col, len(results))"
   ]
  },
  {
   "cell_type": "code",
   "execution_count": 75,
   "metadata": {},
   "outputs": [],
   "source": [
    "drift_detect_pipeline(combinations[0])"
   ]
  },
  {
   "cell_type": "code",
   "execution_count": null,
   "metadata": {},
   "outputs": [
    {
     "name": "stderr",
     "output_type": "stream",
     "text": [
      " 41%|████      | 63710/155520 [41:06<57:01, 26.83it/s]  "
     ]
    }
   ],
   "source": [
    "final_resp = Parallel(n_jobs=46)(\n",
    "    delayed(drift_detect_pipeline)(comb) for comb in tqdm(combinations)\n",
    ")"
   ]
  },
  {
   "cell_type": "code",
   "execution_count": 22,
   "metadata": {},
   "outputs": [
    {
     "name": "stderr",
     "output_type": "stream",
     "text": [
      "joblib.externals.loky.process_executor._RemoteTraceback: \n",
      "\"\"\"\n",
      "Traceback (most recent call last):\n",
      "  File \"/home/ubuntu/.local/lib/python3.6/site-packages/joblib/externals/loky/process_executor.py\", line 418, in _process_worker\n",
      "    r = call_item()\n",
      "  File \"/home/ubuntu/.local/lib/python3.6/site-packages/joblib/externals/loky/process_executor.py\", line 272, in __call__\n",
      "    return self.fn(*self.args, **self.kwargs)\n",
      "  File \"/home/ubuntu/.local/lib/python3.6/site-packages/joblib/_parallel_backends.py\", line 608, in __call__\n",
      "    return self.func(*args, **kwargs)\n",
      "  File \"/home/ubuntu/.local/lib/python3.6/site-packages/joblib/parallel.py\", line 256, in __call__\n",
      "    for func, args, kwargs in self.items]\n",
      "  File \"/home/ubuntu/.local/lib/python3.6/site-packages/joblib/parallel.py\", line 256, in <listcomp>\n",
      "    for func, args, kwargs in self.items]\n",
      "  File \"<ipython-input-17-4fc0d33e3375>\", line 48, in drift_detect_pipeline\n",
      "  File \"/home/ubuntu/.jupyter/experimentos_mestrado/drift_detection.py\", line 43, in get_metrics\n",
      "    f1 = scipy.stats.hmean([precision, recall])\n",
      "AttributeError: module 'scipy' has no attribute 'stats'\n",
      "\"\"\"\n",
      "\n",
      "The above exception was the direct cause of the following exception:\n",
      "\n",
      "Traceback (most recent call last):\n",
      "  File \"/home/ubuntu/.local/lib/python3.6/site-packages/IPython/core/interactiveshell.py\", line 3319, in run_code\n",
      "    exec(code_obj, self.user_global_ns, self.user_ns)\n",
      "  File \"<ipython-input-18-55787b2dd6c8>\", line 2, in <module>\n",
      "    delayed(drift_detect_pipeline)(comb) for comb in tqdm(combinations)\n",
      "  File \"/home/ubuntu/.local/lib/python3.6/site-packages/joblib/parallel.py\", line 1017, in __call__\n",
      "    self.retrieve()\n",
      "  File \"/home/ubuntu/.local/lib/python3.6/site-packages/joblib/parallel.py\", line 909, in retrieve\n",
      "    self._output.extend(job.get(timeout=self.timeout))\n",
      "  File \"/home/ubuntu/.local/lib/python3.6/site-packages/joblib/_parallel_backends.py\", line 562, in wrap_future_result\n",
      "    return future.result(timeout=timeout)\n",
      "  File \"/usr/lib/python3.6/concurrent/futures/_base.py\", line 432, in result\n",
      "    return self.__get_result()\n",
      "  File \"/usr/lib/python3.6/concurrent/futures/_base.py\", line 384, in __get_result\n",
      "    raise self._exception\n",
      "AttributeError: module 'scipy' has no attribute 'stats'\n"
     ]
    }
   ],
   "source": [
    "\n",
    "import traceback\n",
    "traceback.print_last()"
   ]
  },
  {
   "cell_type": "code",
   "execution_count": null,
   "metadata": {},
   "outputs": [],
   "source": []
  }
 ],
 "metadata": {
  "kernelspec": {
   "display_name": "Python 3",
   "language": "python",
   "name": "python3"
  },
  "language_info": {
   "codemirror_mode": {
    "name": "ipython",
    "version": 3
   },
   "file_extension": ".py",
   "mimetype": "text/x-python",
   "name": "python",
   "nbconvert_exporter": "python",
   "pygments_lexer": "ipython3",
   "version": "3.6.9"
  }
 },
 "nbformat": 4,
 "nbformat_minor": 2
}
